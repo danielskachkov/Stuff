{
 "cells": [
  {
   "cell_type": "markdown",
   "metadata": {},
   "source": [
    "# Локальный градиентный спуск"
   ]
  },
  {
   "cell_type": "code",
   "execution_count": 1,
   "metadata": {},
   "outputs": [],
   "source": [
    "import numpy as np\n",
    "from matplotlib import pyplot as plt"
   ]
  },
  {
   "cell_type": "markdown",
   "metadata": {},
   "source": [
    "**Цель:** минимизировать значение функции $F(x) = \\frac{1}{M}\\sum_{i = 1}^{M} f_i (x)$.  \n",
    "**Описание алгоритма:** локальный градиентный спуск, реализованный в файле main.py, принимает на вход следующие аргументы:  \n",
    "1) N - количество эпох, т.е. количество коммуникаций между сервером и клиентами  \n",
    "2) H - количество шагов градиентного спуска в каждой эпохе (частота коммуникаций)  \n",
    "3) $x_0$ - начальная точка  \n",
    "4) $\\gamma$ - коэффициент при градиентном шаге  \n",
    "4) M градиентов  \n",
    "  \n",
    "Алгоритм возвращает все точки, отправленные клиентам за всё время его работы.  \n",
    "  \n",
    "Возьмем для начала в качестве функций $f_1(x), f_2(x), f_3(x)$ билинейные квадратичные формы, задаваемые матрицами:  \n",
    "$A_1 = \\quad \\begin{pmatrix} 1 & 0 & 0 \\\\ 0 & 2 & 0 \\\\ 0 & 0 & 3 \\end{pmatrix} \\quad$ \n",
    "$A_2 = \\quad \\begin{pmatrix} 1 & 0 & 0 \\\\ 0 & 2 & 0 \\\\ 0 & 0 & 1 \\end{pmatrix} \\quad$ \n",
    "$A_3 = \\quad \\begin{pmatrix} 2 & 0 & 0 \\\\ 0 & 2 & 0 \\\\ 0 & 0 & 1 \\end{pmatrix} \\quad$"
   ]
  },
  {
   "cell_type": "markdown",
   "metadata": {},
   "source": [
    "Заметим, что $\\nabla f_i(x) = 2A_i x$, следовательно $L_i = 2 \\cdot max\\{\\lambda_{i_j}\\}$, где $\\lambda_{i_j}$ - собственные числа $A_i$. Т.к. $A_i$ - диалгональные, то это просто есть максимум из чисел, стоящих на диагонали.  \n",
    "Те же рассуждения работают для $F(x) = \\frac{1}{M}\\sum_{i = 1}^{M} f_i (x)$, только у нее  \n",
    "$A = \\frac{1}{3} \\begin{pmatrix} 4 & 0 & 0 \\\\ 0 & 6 & 0 \\\\ 0 & 0 & 5 \\end{pmatrix}$  \n",
    "Поэтому для $F(x)$ получим $L = 4$.  \n",
    "Выберем коэффициент $\\gamma \\leq \\frac{1}{4LH}$. Пусть $H = 10$. Тогда $\\frac{1}{4LH} = \\frac{1}{160} > \\frac{1}{200} = 0.005 =: \\gamma$."
   ]
  },
  {
   "cell_type": "code",
   "execution_count": 2,
   "metadata": {},
   "outputs": [],
   "source": [
    "points = ! mpiexec -n 4 python main.py 100 10 '[1, 2, 3]' 0.005 '2*np.array([[1, 0, 0],[0, 2, 0],[0, 0, 3]])@x' '2*np.array([[1, 0, 0],[0, 2, 0],[0, 0, 1]])@x' '2*np.array([[2, 0, 0],[0, 2, 0],[0, 0, 1]])@x'\n",
    "points = eval(points[0])"
   ]
  },
  {
   "cell_type": "code",
   "execution_count": 3,
   "metadata": {},
   "outputs": [],
   "source": [
    "A1 = np.array([\n",
    "    [1, 0, 0],\n",
    "    [0, 2, 0],\n",
    "    [0, 0, 3]\n",
    "])\n",
    "\n",
    "A2 = np.array([\n",
    "    [1, 0, 0],\n",
    "    [0, 2, 0],\n",
    "    [0, 0, 1]\n",
    "])\n",
    "\n",
    "A3 = np.array([\n",
    "    [2, 0, 0],\n",
    "    [0, 2, 0],\n",
    "    [0, 0, 1]\n",
    "])"
   ]
  },
  {
   "cell_type": "code",
   "execution_count": 4,
   "metadata": {},
   "outputs": [
    {
     "data": {
      "text/plain": [
       "[<matplotlib.lines.Line2D at 0x7fbbac933358>]"
      ]
     },
     "execution_count": 4,
     "metadata": {},
     "output_type": "execute_result"
    },
    {
     "data": {
      "image/png": "[encoded data removed]",
      "text/plain": [
       "<Figure size 720x360 with 1 Axes>"
      ]
     },
     "metadata": {
      "needs_background": "light"
     },
     "output_type": "display_data"
    }
   ],
   "source": [
    "Y = [(p.transpose()@A1@p + p.transpose()@A2@p + p.transpose()@A1@p)/3 for p in points]\n",
    "plt.figure(figsize=(10, 5))\n",
    "plt.xlabel('epoch')\n",
    "plt.ylabel('F(x)')\n",
    "plt.plot(Y)"
   ]
  },
  {
   "cell_type": "markdown",
   "metadata": {},
   "source": [
    "Как видим, значение функции со свистом уходит в ноль.  \n",
    "Попробуем теперь рассмотреть функции вида $f_i(x) = x^T A_i x - b^T x $. Оставим $A_i$ теми же, в качестве $b_i$ возьмем  \n",
    "$b_1 = (1, 1, 1)^T$ $b_2 = (1, 0, 0)^T$ $b_3 = (0, 0, 0)^T$  \n",
    "Путем несложных вычислений, которые мы оставляем любознательному читателю в качестве упражнения, получим, что градиент   $F(x) = 2(A_1 + A_2 + A_3)x - b_1 - b_2 - b_3$  \n",
    "Отсюда $x_* = \\frac{1}{2} (A_1 + A_2 + A_3)^{-1}(b_1 + b_2 + b_3)$"
   ]
  },
  {
   "cell_type": "code",
   "execution_count": 5,
   "metadata": {},
   "outputs": [
    {
     "name": "stdout",
     "output_type": "stream",
     "text": [
      "[0.25       0.08333333 0.1       ]\n",
      "-0.11388888888888889\n"
     ]
    }
   ],
   "source": [
    "b1 = np.array([1, 1, 1])\n",
    "b2 = np.array([1, 0, 0])\n",
    "x_min = np.linalg.inv(A1 + A2 + A3)@(b1 + b2)/2\n",
    "F_min = (x_min.transpose()@A1@x_min + x_min.transpose()@A2@x_min + x_min.transpose()@A3@x_min - b1.transpose()@x_min - b2.transpose()@x_min)/3\n",
    "print(x_min)\n",
    "print(F_min)"
   ]
  },
  {
   "cell_type": "markdown",
   "metadata": {},
   "source": [
    "Заметим, что L осталось тем же. Посчитаем еще $\\sigma_f^2 = \\frac{1}{M}\\sum \\limits_{i = 1}^{M} \\|\\nabla f_i(x_*)\\|^2$."
   ]
  },
  {
   "cell_type": "code",
   "execution_count": 6,
   "metadata": {},
   "outputs": [
    {
     "name": "stdout",
     "output_type": "stream",
     "text": [
      "0.658888888888889\n"
     ]
    }
   ],
   "source": [
    "sigmf = (np.linalg.norm(2*A1@x_min - b1)**2 + np.linalg.norm(2*A2@x_min - b2)**2 + np.linalg.norm(2*A1@x_min)**2)/3\n",
    "print(sigmf)"
   ]
  },
  {
   "cell_type": "markdown",
   "metadata": {},
   "source": [
    "Отсюда, полагая $x_0 = (10, 5, 13)^T$, найдем $\\frac{2\\|x_0 - x_*\\|^2}{T\\gamma} + 24\\gamma^2\\sigma_f^2H^2L \\approx 0.3$"
   ]
  },
  {
   "cell_type": "code",
   "execution_count": 7,
   "metadata": {},
   "outputs": [],
   "source": [
    "points = ! mpiexec -n 4 python main.py 100 10 '[10, 5, 13]' 0.005 '2*np.array([[1, 0, 0],[0, 2, 0],[0, 0, 3]])@x - np.array([1, 1, 1])' '2*np.array([[1, 0, 0],[0, 2, 0],[0, 0, 1]])@x' '2*np.array([[2, 0, 0],[0, 2, 0],[0, 0, 1]])@x'\n",
    "points = eval(points[0])"
   ]
  },
  {
   "cell_type": "code",
   "execution_count": 8,
   "metadata": {},
   "outputs": [
    {
     "data": {
      "text/plain": [
       "<matplotlib.legend.Legend at 0x7fbbac605be0>"
      ]
     },
     "execution_count": 8,
     "metadata": {},
     "output_type": "execute_result"
    },
    {
     "data": {
      "image/png": "[encoded data removed]",
      "text/plain": [
       "<Figure size 720x360 with 1 Axes>"
      ]
     },
     "metadata": {
      "needs_background": "light"
     },
     "output_type": "display_data"
    }
   ],
   "source": [
    "Y1 = [(p.transpose()@A1@p + p.transpose()@A2@p + p.transpose()@A1@p - b1.transpose()@p - b2.transpose()@p)/3 for p in points]\n",
    "Y2 = [F_min]*len(points)\n",
    "plt.figure(figsize=(10, 5))\n",
    "plt.xlabel('epoch')\n",
    "plt.ylabel('F(x)')\n",
    "plt.plot(Y1, label='$F(x)$')\n",
    "plt.plot(Y2, label='$F(x_*)$')\n",
    "plt.legend()"
   ]
  },
  {
   "cell_type": "markdown",
   "metadata": {},
   "source": [
    "Чтобы лучше рассмотреть график, откинем первые 50 эпох."
   ]
  },
  {
   "cell_type": "code",
   "execution_count": 9,
   "metadata": {},
   "outputs": [
    {
     "data": {
      "text/plain": [
       "<matplotlib.legend.Legend at 0x7fbbac3d0c88>"
      ]
     },
     "execution_count": 9,
     "metadata": {},
     "output_type": "execute_result"
    },
    {
     "data": {
      "image/png": "[encoded data removed]",
      "text/plain": [
       "<Figure size 720x360 with 1 Axes>"
      ]
     },
     "metadata": {
      "needs_background": "light"
     },
     "output_type": "display_data"
    }
   ],
   "source": [
    "plt.figure(figsize=(10, 5))\n",
    "plt.xlabel('epoch')\n",
    "plt.ylabel('F(x)')\n",
    "plt.plot(Y1[50:], label='$F(x)$')\n",
    "plt.plot(Y2[50:], label='$F(x_*)$')\n",
    "plt.legend()"
   ]
  },
  {
   "cell_type": "markdown",
   "metadata": {},
   "source": [
    "Хотя оптимальное значение и не было достигнуто, ошибка укладывается в рамки заявленных 0.3, что не может не радовать (стоит отметить, что верхнее ограничение на ошибку давалось, строго говоря, не для стабилизировавшегося значения, а для среднего значения по всем итерациям)."
   ]
  }
 ],
 "metadata": {
  "kernelspec": {
   "display_name": "Python 3",
   "language": "python",
   "name": "python3"
  },
  "language_info": {
   "codemirror_mode": {
    "name": "ipython",
    "version": 3
   },
   "file_extension": ".py",
   "mimetype": "text/x-python",
   "name": "python",
   "nbconvert_exporter": "python",
   "pygments_lexer": "ipython3",
   "version": "3.7.3"
  }
 },
 "nbformat": 4,
 "nbformat_minor": 2
}
